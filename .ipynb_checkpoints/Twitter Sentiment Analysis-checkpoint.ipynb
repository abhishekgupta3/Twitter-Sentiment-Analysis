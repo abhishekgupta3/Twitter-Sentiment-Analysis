{
 "cells": [
  {
   "cell_type": "markdown",
   "id": "completed-wagner",
   "metadata": {},
   "source": [
    "# Importing libraries"
   ]
  },
  {
   "cell_type": "code",
   "execution_count": null,
   "id": "contrary-bottle",
   "metadata": {},
   "outputs": [],
   "source": [
    "import numpy as np\n",
    "import pandas as pd\n",
    "import random"
   ]
  },
  {
   "cell_type": "markdown",
   "id": "different-cemetery",
   "metadata": {},
   "source": [
    "# Data Loading"
   ]
  },
  {
   "cell_type": "code",
   "execution_count": 2,
   "id": "governmental-actress",
   "metadata": {},
   "outputs": [],
   "source": [
    "data = pd.read_csv(\"./Dataset/training.1600000.processed.noemoticon.csv\")\n",
    "data = data.sample(n=10000)"
   ]
  },
  {
   "cell_type": "code",
   "execution_count": 3,
   "id": "adolescent-horizontal",
   "metadata": {
    "scrolled": true
   },
   "outputs": [
    {
     "data": {
      "text/html": [
       "<div>\n",
       "<style scoped>\n",
       "    .dataframe tbody tr th:only-of-type {\n",
       "        vertical-align: middle;\n",
       "    }\n",
       "\n",
       "    .dataframe tbody tr th {\n",
       "        vertical-align: top;\n",
       "    }\n",
       "\n",
       "    .dataframe thead th {\n",
       "        text-align: right;\n",
       "    }\n",
       "</style>\n",
       "<table border=\"1\" class=\"dataframe\">\n",
       "  <thead>\n",
       "    <tr style=\"text-align: right;\">\n",
       "      <th></th>\n",
       "      <th>0</th>\n",
       "      <th>1467810369</th>\n",
       "      <th>Mon Apr 06 22:19:45 PDT 2009</th>\n",
       "      <th>NO_QUERY</th>\n",
       "      <th>_TheSpecialOne_</th>\n",
       "      <th>@switchfoot http://twitpic.com/2y1zl - Awww, that's a bummer.  You shoulda got David Carr of Third Day to do it. ;D</th>\n",
       "    </tr>\n",
       "  </thead>\n",
       "  <tbody>\n",
       "    <tr>\n",
       "      <th>263917</th>\n",
       "      <td>0</td>\n",
       "      <td>1986693919</td>\n",
       "      <td>Sun May 31 19:11:17 PDT 2009</td>\n",
       "      <td>NO_QUERY</td>\n",
       "      <td>HAZZARD202</td>\n",
       "      <td>i need updates on the awards</td>\n",
       "    </tr>\n",
       "    <tr>\n",
       "      <th>917313</th>\n",
       "      <td>4</td>\n",
       "      <td>1753467101</td>\n",
       "      <td>Sun May 10 01:47:03 PDT 2009</td>\n",
       "      <td>NO_QUERY</td>\n",
       "      <td>celinehlbk</td>\n",
       "      <td>@ShanteRowlandd so how is the most wonderful m...</td>\n",
       "    </tr>\n",
       "    <tr>\n",
       "      <th>1297366</th>\n",
       "      <td>4</td>\n",
       "      <td>2004489309</td>\n",
       "      <td>Tue Jun 02 08:16:50 PDT 2009</td>\n",
       "      <td>NO_QUERY</td>\n",
       "      <td>hyper_baffoon</td>\n",
       "      <td>i think im addicted to these traffic light ice...</td>\n",
       "    </tr>\n",
       "    <tr>\n",
       "      <th>1103708</th>\n",
       "      <td>4</td>\n",
       "      <td>1971075046</td>\n",
       "      <td>Sat May 30 06:08:24 PDT 2009</td>\n",
       "      <td>NO_QUERY</td>\n",
       "      <td>bengarrett77</td>\n",
       "      <td>@dvsboy you know foyles has a decent bookshop ...</td>\n",
       "    </tr>\n",
       "    <tr>\n",
       "      <th>908229</th>\n",
       "      <td>4</td>\n",
       "      <td>1696133692</td>\n",
       "      <td>Mon May 04 07:40:45 PDT 2009</td>\n",
       "      <td>NO_QUERY</td>\n",
       "      <td>JayeMarie</td>\n",
       "      <td>@sheila_H ok so who do you know on Daisy of Lo...</td>\n",
       "    </tr>\n",
       "  </tbody>\n",
       "</table>\n",
       "</div>"
      ],
      "text/plain": [
       "         0  1467810369  Mon Apr 06 22:19:45 PDT 2009  NO_QUERY  \\\n",
       "263917   0  1986693919  Sun May 31 19:11:17 PDT 2009  NO_QUERY   \n",
       "917313   4  1753467101  Sun May 10 01:47:03 PDT 2009  NO_QUERY   \n",
       "1297366  4  2004489309  Tue Jun 02 08:16:50 PDT 2009  NO_QUERY   \n",
       "1103708  4  1971075046  Sat May 30 06:08:24 PDT 2009  NO_QUERY   \n",
       "908229   4  1696133692  Mon May 04 07:40:45 PDT 2009  NO_QUERY   \n",
       "\n",
       "        _TheSpecialOne_  \\\n",
       "263917       HAZZARD202   \n",
       "917313       celinehlbk   \n",
       "1297366   hyper_baffoon   \n",
       "1103708    bengarrett77   \n",
       "908229        JayeMarie   \n",
       "\n",
       "        @switchfoot http://twitpic.com/2y1zl - Awww, that's a bummer.  You shoulda got David Carr of Third Day to do it. ;D  \n",
       "263917                       i need updates on the awards                                                                    \n",
       "917313   @ShanteRowlandd so how is the most wonderful m...                                                                   \n",
       "1297366  i think im addicted to these traffic light ice...                                                                   \n",
       "1103708  @dvsboy you know foyles has a decent bookshop ...                                                                   \n",
       "908229   @sheila_H ok so who do you know on Daisy of Lo...                                                                   "
      ]
     },
     "execution_count": 3,
     "metadata": {},
     "output_type": "execute_result"
    }
   ],
   "source": [
    "data.head()"
   ]
  },
  {
   "cell_type": "code",
   "execution_count": 4,
   "id": "satisfactory-junction",
   "metadata": {},
   "outputs": [
    {
     "data": {
      "text/plain": [
       "(10000, 6)"
      ]
     },
     "execution_count": 4,
     "metadata": {},
     "output_type": "execute_result"
    }
   ],
   "source": [
    "data.shape"
   ]
  },
  {
   "cell_type": "code",
   "execution_count": 5,
   "id": "contained-guard",
   "metadata": {},
   "outputs": [],
   "source": [
    "data.columns = ['target','ids','Date','flag','user','text']"
   ]
  },
  {
   "cell_type": "code",
   "execution_count": 6,
   "id": "opposite-fever",
   "metadata": {},
   "outputs": [
    {
     "name": "stdout",
     "output_type": "stream",
     "text": [
      "<class 'pandas.core.frame.DataFrame'>\n",
      "Int64Index: 10000 entries, 263917 to 936728\n",
      "Data columns (total 6 columns):\n",
      " #   Column  Non-Null Count  Dtype \n",
      "---  ------  --------------  ----- \n",
      " 0   target  10000 non-null  int64 \n",
      " 1   ids     10000 non-null  int64 \n",
      " 2   Date    10000 non-null  object\n",
      " 3   flag    10000 non-null  object\n",
      " 4   user    10000 non-null  object\n",
      " 5   text    10000 non-null  object\n",
      "dtypes: int64(2), object(4)\n",
      "memory usage: 546.9+ KB\n"
     ]
    }
   ],
   "source": [
    "data.info()"
   ]
  },
  {
   "cell_type": "code",
   "execution_count": 7,
   "id": "fuzzy-richards",
   "metadata": {},
   "outputs": [],
   "source": [
    "# Dropping unnessary features\n",
    "\n",
    "data.drop(['ids','Date','flag','user'],axis=1,inplace = True)"
   ]
  },
  {
   "cell_type": "code",
   "execution_count": 8,
   "id": "capital-light",
   "metadata": {},
   "outputs": [
    {
     "data": {
      "text/plain": [
       "4    5111\n",
       "0    4889\n",
       "Name: target, dtype: int64"
      ]
     },
     "execution_count": 8,
     "metadata": {},
     "output_type": "execute_result"
    }
   ],
   "source": [
    "data.target.value_counts()"
   ]
  },
  {
   "cell_type": "markdown",
   "id": "received-chicago",
   "metadata": {},
   "source": [
    "## Data Cleaning"
   ]
  },
  {
   "cell_type": "code",
   "execution_count": 9,
   "id": "governing-usage",
   "metadata": {},
   "outputs": [],
   "source": [
    "import string\n",
    "from nltk.corpus import stopwords\n",
    "from nltk.tokenize import RegexpTokenizer\n",
    "from nltk.stem import PorterStemmer"
   ]
  },
  {
   "cell_type": "code",
   "execution_count": 10,
   "id": "instrumental-worst",
   "metadata": {},
   "outputs": [],
   "source": [
    "punctuations = string.punctuation"
   ]
  },
  {
   "cell_type": "code",
   "execution_count": 11,
   "id": "bottom-separation",
   "metadata": {},
   "outputs": [],
   "source": [
    "stop = stopwords.words('english')"
   ]
  },
  {
   "cell_type": "code",
   "execution_count": 12,
   "id": "spectacular-policy",
   "metadata": {},
   "outputs": [],
   "source": [
    "# appending punctuations in stopwords\n",
    "punctuations = [char for char in punctuations]\n",
    "for char in punctuations:\n",
    "    stop.append(char)"
   ]
  },
  {
   "cell_type": "code",
   "execution_count": 13,
   "id": "recognized-highland",
   "metadata": {},
   "outputs": [],
   "source": [
    "tokenizer = RegexpTokenizer(r'\\w+')\n",
    "ps = PorterStemmer()"
   ]
  },
  {
   "cell_type": "code",
   "execution_count": 14,
   "id": "democratic-saskatchewan",
   "metadata": {},
   "outputs": [],
   "source": [
    "def cleanWords(text):\n",
    "    \n",
    "    # lower the text message\n",
    "    text = text.lower()\n",
    "    \n",
    "    # Regex tokenizer\n",
    "    text = tokenizer.tokenize(text)\n",
    "    \n",
    "    # Stopwords removal and Stemming using porter stemmer\n",
    "    meaningful = [ps.stem(word) for word in text if not word in stop]\n",
    "        \n",
    "\n",
    "    return ' '.join(meaningful)"
   ]
  },
  {
   "cell_type": "code",
   "execution_count": 15,
   "id": "complicated-midnight",
   "metadata": {},
   "outputs": [],
   "source": [
    "key = data['text'].keys()"
   ]
  },
  {
   "cell_type": "code",
   "execution_count": 16,
   "id": "statewide-paragraph",
   "metadata": {},
   "outputs": [
    {
     "name": "stderr",
     "output_type": "stream",
     "text": [
      "<ipython-input-16-8cb5dbe34b89>:2: SettingWithCopyWarning: \n",
      "A value is trying to be set on a copy of a slice from a DataFrame\n",
      "\n",
      "See the caveats in the documentation: https://pandas.pydata.org/pandas-docs/stable/user_guide/indexing.html#returning-a-view-versus-a-copy\n",
      "  data['text'][i] = cleanWords(data['text'][i])\n"
     ]
    }
   ],
   "source": [
    "for i in key:\n",
    "    data['text'][i] = cleanWords(data['text'][i])\n",
    "    "
   ]
  },
  {
   "cell_type": "code",
   "execution_count": 17,
   "id": "compliant-spank",
   "metadata": {},
   "outputs": [
    {
     "data": {
      "text/html": [
       "<div>\n",
       "<style scoped>\n",
       "    .dataframe tbody tr th:only-of-type {\n",
       "        vertical-align: middle;\n",
       "    }\n",
       "\n",
       "    .dataframe tbody tr th {\n",
       "        vertical-align: top;\n",
       "    }\n",
       "\n",
       "    .dataframe thead th {\n",
       "        text-align: right;\n",
       "    }\n",
       "</style>\n",
       "<table border=\"1\" class=\"dataframe\">\n",
       "  <thead>\n",
       "    <tr style=\"text-align: right;\">\n",
       "      <th></th>\n",
       "      <th>target</th>\n",
       "      <th>text</th>\n",
       "    </tr>\n",
       "  </thead>\n",
       "  <tbody>\n",
       "    <tr>\n",
       "      <th>263917</th>\n",
       "      <td>0</td>\n",
       "      <td>need updat award</td>\n",
       "    </tr>\n",
       "    <tr>\n",
       "      <th>917313</th>\n",
       "      <td>4</td>\n",
       "      <td>shanterowlandd wonder mommi world</td>\n",
       "    </tr>\n",
       "    <tr>\n",
       "      <th>1297366</th>\n",
       "      <td>4</td>\n",
       "      <td>think im addict traffic light ice lolli sugar ...</td>\n",
       "    </tr>\n",
       "    <tr>\n",
       "      <th>1103708</th>\n",
       "      <td>4</td>\n",
       "      <td>dvsboy know foyl decent bookshop westfield lon...</td>\n",
       "    </tr>\n",
       "    <tr>\n",
       "      <th>908229</th>\n",
       "      <td>4</td>\n",
       "      <td>sheila_h ok know daisi love seen yet oh lord</td>\n",
       "    </tr>\n",
       "    <tr>\n",
       "      <th>1317724</th>\n",
       "      <td>4</td>\n",
       "      <td>love know dont worri get</td>\n",
       "    </tr>\n",
       "    <tr>\n",
       "      <th>1194754</th>\n",
       "      <td>4</td>\n",
       "      <td>cuppi time spare play darkfal person</td>\n",
       "    </tr>\n",
       "  </tbody>\n",
       "</table>\n",
       "</div>"
      ],
      "text/plain": [
       "         target                                               text\n",
       "263917        0                                   need updat award\n",
       "917313        4                  shanterowlandd wonder mommi world\n",
       "1297366       4  think im addict traffic light ice lolli sugar ...\n",
       "1103708       4  dvsboy know foyl decent bookshop westfield lon...\n",
       "908229        4       sheila_h ok know daisi love seen yet oh lord\n",
       "1317724       4                           love know dont worri get\n",
       "1194754       4               cuppi time spare play darkfal person"
      ]
     },
     "execution_count": 17,
     "metadata": {},
     "output_type": "execute_result"
    }
   ],
   "source": [
    "data.head(7)"
   ]
  },
  {
   "cell_type": "markdown",
   "id": "stock-disclosure",
   "metadata": {},
   "source": [
    "#  Vectorizer"
   ]
  },
  {
   "cell_type": "code",
   "execution_count": 18,
   "id": "unnecessary-candidate",
   "metadata": {},
   "outputs": [],
   "source": [
    "from sklearn.feature_extraction.text import CountVectorizer"
   ]
  },
  {
   "cell_type": "code",
   "execution_count": 19,
   "id": "pleasant-bunch",
   "metadata": {},
   "outputs": [],
   "source": [
    "cv = CountVectorizer(max_features=2000)"
   ]
  },
  {
   "cell_type": "code",
   "execution_count": 20,
   "id": "simplified-wheel",
   "metadata": {},
   "outputs": [],
   "source": [
    "data_vectorized = cv.fit_transform(data['text']).toarray()"
   ]
  },
  {
   "cell_type": "code",
   "execution_count": 21,
   "id": "related-highland",
   "metadata": {},
   "outputs": [
    {
     "data": {
      "text/plain": [
       "array([[0, 0, 0, ..., 0, 0, 0],\n",
       "       [0, 0, 0, ..., 0, 0, 0],\n",
       "       [0, 0, 0, ..., 0, 0, 0],\n",
       "       ...,\n",
       "       [0, 0, 0, ..., 0, 0, 0],\n",
       "       [0, 0, 0, ..., 0, 0, 0],\n",
       "       [0, 0, 0, ..., 0, 0, 0]], dtype=int64)"
      ]
     },
     "execution_count": 21,
     "metadata": {},
     "output_type": "execute_result"
    }
   ],
   "source": [
    "data_vectorized"
   ]
  },
  {
   "cell_type": "markdown",
   "id": "environmental-chicago",
   "metadata": {},
   "source": [
    "##  Data Splitting"
   ]
  },
  {
   "cell_type": "code",
   "execution_count": 22,
   "id": "magnetic-thomas",
   "metadata": {},
   "outputs": [],
   "source": [
    "from sklearn.model_selection import train_test_split"
   ]
  },
  {
   "cell_type": "code",
   "execution_count": 23,
   "id": "minimal-angola",
   "metadata": {},
   "outputs": [],
   "source": [
    "X_train , X_test , Y_train, Y_test = train_test_split(data_vectorized, data['target'],test_size=0.2,random_state=0)"
   ]
  },
  {
   "cell_type": "code",
   "execution_count": 24,
   "id": "identified-wholesale",
   "metadata": {},
   "outputs": [
    {
     "data": {
      "text/plain": [
       "((8000, 2000), (2000, 2000))"
      ]
     },
     "execution_count": 24,
     "metadata": {},
     "output_type": "execute_result"
    }
   ],
   "source": [
    "X_train.shape , X_test.shape"
   ]
  },
  {
   "cell_type": "code",
   "execution_count": 25,
   "id": "executive-peter",
   "metadata": {
    "scrolled": true
   },
   "outputs": [
    {
     "data": {
      "text/plain": [
       "(array([[0, 0, 0, ..., 0, 0, 0],\n",
       "        [0, 0, 0, ..., 0, 0, 0],\n",
       "        [0, 0, 0, ..., 0, 0, 0],\n",
       "        ...,\n",
       "        [0, 0, 0, ..., 0, 0, 0],\n",
       "        [0, 0, 0, ..., 0, 0, 0],\n",
       "        [0, 0, 0, ..., 0, 0, 0]], dtype=int64),\n",
       " 922194     4\n",
       " 585073     0\n",
       " 372483     0\n",
       " 998024     4\n",
       " 224565     0\n",
       "           ..\n",
       " 1108896    4\n",
       " 468491     0\n",
       " 897351     4\n",
       " 700235     0\n",
       " 1517332    4\n",
       " Name: target, Length: 8000, dtype: int64)"
      ]
     },
     "execution_count": 25,
     "metadata": {},
     "output_type": "execute_result"
    }
   ],
   "source": [
    "X_train, Y_train"
   ]
  },
  {
   "cell_type": "markdown",
   "id": "suspected-campus",
   "metadata": {},
   "source": [
    "# Model Selection"
   ]
  },
  {
   "cell_type": "code",
   "execution_count": 29,
   "id": "comparative-liechtenstein",
   "metadata": {},
   "outputs": [],
   "source": [
    "from sklearn.svm import SVC\n",
    "from sklearn.ensemble import RandomForestClassifier\n",
    "from sklearn.tree import DecisionTreeClassifier"
   ]
  },
  {
   "cell_type": "code",
   "execution_count": 30,
   "id": "congressional-edward",
   "metadata": {},
   "outputs": [],
   "source": [
    "from sklearn.metrics import classification_report\n",
    "from sklearn.metrics import accuracy_score"
   ]
  },
  {
   "cell_type": "code",
   "execution_count": null,
   "id": "chief-conservation",
   "metadata": {},
   "outputs": [],
   "source": [
    "svc = SVC()\n",
    "svc.fit(X_train,Y_train)\n",
    "Y_pred_svc = svc.predict(X_test_vectorized)\n",
    "cf_svc = classification_report(Y_pred_svc,Y_test)\n",
    "score_svc = accuracy_score(Y_pred_svc,Y_test)\n",
    "print(cf_svc)\n",
    "print(score_svc)"
   ]
  },
  {
   "cell_type": "code",
   "execution_count": null,
   "id": "virgin-things",
   "metadata": {},
   "outputs": [],
   "source": [
    "rf = RandomForestClassifier(n_estimators = 10)\n",
    "rf.fit(X_train,Y_train)\n",
    "Y_pred_rf = rf.predict(X_test_vectorized)\n",
    "cf_rf = classification_report(Y_pred_rf,Y_test)\n",
    "score_rf = accuracy_score(Y_pred_rf,Y_test)\n",
    "print(cf_rf)\n",
    "print(score_rf)"
   ]
  },
  {
   "cell_type": "code",
   "execution_count": null,
   "id": "embedded-hospital",
   "metadata": {},
   "outputs": [],
   "source": [
    "dt = DecisionTreeClassifier( criterion='entropy')\n",
    "dt.fit(X_train,Y_train)\n",
    "Y_pred_dt = dt.predict(X_test_vectorized)\n",
    "cf_dt = classification_report(Y_pred_dt,Y_test)\n",
    "score_dt = accuracy_score(Y_pred_dt,Y_test)\n",
    "print(cf_dt)\n",
    "print(score_dt)"
   ]
  },
  {
   "cell_type": "code",
   "execution_count": null,
   "id": "unnecessary-province",
   "metadata": {},
   "outputs": [],
   "source": [
    "\n"
   ]
  },
  {
   "cell_type": "code",
   "execution_count": null,
   "id": "developmental-burst",
   "metadata": {},
   "outputs": [],
   "source": [
    "\n",
    "\n",
    "\n"
   ]
  },
  {
   "cell_type": "code",
   "execution_count": null,
   "id": "preceding-healthcare",
   "metadata": {},
   "outputs": [],
   "source": []
  },
  {
   "cell_type": "code",
   "execution_count": null,
   "id": "incorporated-default",
   "metadata": {},
   "outputs": [],
   "source": []
  },
  {
   "cell_type": "code",
   "execution_count": null,
   "id": "exclusive-kentucky",
   "metadata": {},
   "outputs": [],
   "source": []
  },
  {
   "cell_type": "code",
   "execution_count": null,
   "id": "decreased-learning",
   "metadata": {},
   "outputs": [],
   "source": []
  },
  {
   "cell_type": "code",
   "execution_count": null,
   "id": "smart-animation",
   "metadata": {},
   "outputs": [],
   "source": []
  }
 ],
 "metadata": {
  "kernelspec": {
   "display_name": "Python 3",
   "language": "python",
   "name": "python3"
  },
  "language_info": {
   "codemirror_mode": {
    "name": "ipython",
    "version": 3
   },
   "file_extension": ".py",
   "mimetype": "text/x-python",
   "name": "python",
   "nbconvert_exporter": "python",
   "pygments_lexer": "ipython3",
   "version": "3.9.1"
  }
 },
 "nbformat": 4,
 "nbformat_minor": 5
}
